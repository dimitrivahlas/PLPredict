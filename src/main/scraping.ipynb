{
 "cells": [
  {
   "cell_type": "code",
   "execution_count": 1,
   "id": "7a99a080-f8e5-435c-8653-b166f2571fd1",
   "metadata": {},
   "outputs": [
    {
     "name": "stdout",
     "output_type": "stream",
     "text": [
      "Requirement already satisfied: requests in /Users/dimitrivahlas/Downloads/PLpred/.venv/lib/python3.9/site-packages (2.32.3)\n",
      "Requirement already satisfied: charset-normalizer<4,>=2 in /Users/dimitrivahlas/Downloads/PLpred/.venv/lib/python3.9/site-packages (from requests) (3.4.1)\n",
      "Requirement already satisfied: idna<4,>=2.5 in /Users/dimitrivahlas/Downloads/PLpred/.venv/lib/python3.9/site-packages (from requests) (3.10)\n",
      "Requirement already satisfied: urllib3<3,>=1.21.1 in /Users/dimitrivahlas/Downloads/PLpred/.venv/lib/python3.9/site-packages (from requests) (2.3.0)\n",
      "Requirement already satisfied: certifi>=2017.4.17 in /Users/dimitrivahlas/Downloads/PLpred/.venv/lib/python3.9/site-packages (from requests) (2024.12.14)\n",
      "Note: you may need to restart the kernel to use updated packages.\n"
     ]
    }
   ],
   "source": [
    "pip install requests \n",
    "import requests "
   ]
  },
  {
   "cell_type": "code",
   "execution_count": 3,
   "id": "8234af7c-9f56-4695-abac-31d3935b89df",
   "metadata": {},
   "outputs": [],
   "source": [
    "standings_url =  \"https://fbref.com/en/comps/9/Premier-League-Stats\" \n",
    "data = requests.get(standings_url)"
   ]
  },
  {
   "cell_type": "code",
   "execution_count": 5,
   "id": "d0605550",
   "metadata": {},
   "outputs": [
    {
     "name": "stdout",
     "output_type": "stream",
     "text": [
      "Requirement already satisfied: bs4 in /Users/dimitrivahlas/Downloads/PLpred/.venv/lib/python3.9/site-packages (0.0.2)\n",
      "Requirement already satisfied: beautifulsoup4 in /Users/dimitrivahlas/Downloads/PLpred/.venv/lib/python3.9/site-packages (from bs4) (4.12.3)\n",
      "Requirement already satisfied: soupsieve>1.2 in /Users/dimitrivahlas/Downloads/PLpred/.venv/lib/python3.9/site-packages (from beautifulsoup4->bs4) (2.6)\n",
      "Note: you may need to restart the kernel to use updated packages.\n"
     ]
    }
   ],
   "source": [
    "pip install bs4\n",
    "\n",
    "from bs4 import BeautifulSoup\n",
    "import time\n",
    "time.sleep(5)\n",
    "soup = BeautifulSoup(data.text)"
   ]
  },
  {
   "cell_type": "code",
   "execution_count": 10,
   "id": "8209c543-5b33-4da1-8854-b6ea2c4d149f",
   "metadata": {},
   "outputs": [],
   "source": [
    "standings_table = soup.select('table.stats_table')[0]\n",
    "links = standings_table.find_all('a')\n",
    "links = [l.get(\"href\") for l in links]\n",
    "links = [l for l in links if '/squads/' in l]\n",
    "team_urls = [f\"https://fbref.com{l}\" for l in links]\n",
    "team_url = team_urls[0]\n",
    "team_url\n",
    "data = requests.get(team_url)"
   ]
  },
  {
   "cell_type": "code",
   "execution_count": 18,
   "id": "a5913c0f",
   "metadata": {},
   "outputs": [
    {
     "name": "stdout",
     "output_type": "stream",
     "text": [
      "Requirement already satisfied: pandas in /Users/dimitrivahlas/Downloads/PLpred/.venv/lib/python3.9/site-packages (2.2.3)\n",
      "Requirement already satisfied: numpy>=1.22.4 in /Users/dimitrivahlas/Downloads/PLpred/.venv/lib/python3.9/site-packages (from pandas) (2.0.2)\n",
      "Requirement already satisfied: python-dateutil>=2.8.2 in /Users/dimitrivahlas/Downloads/PLpred/.venv/lib/python3.9/site-packages (from pandas) (2.9.0.post0)\n",
      "Requirement already satisfied: pytz>=2020.1 in /Users/dimitrivahlas/Downloads/PLpred/.venv/lib/python3.9/site-packages (from pandas) (2024.2)\n",
      "Requirement already satisfied: tzdata>=2022.7 in /Users/dimitrivahlas/Downloads/PLpred/.venv/lib/python3.9/site-packages (from pandas) (2024.2)\n",
      "Requirement already satisfied: six>=1.5 in /Users/dimitrivahlas/Downloads/PLpred/.venv/lib/python3.9/site-packages (from python-dateutil>=2.8.2->pandas) (1.17.0)\n",
      "Note: you may need to restart the kernel to use updated packages.\n"
     ]
    }
   ],
   "source": [
    "pip install pandas\n",
    "pip install lxml"
   ]
  },
  {
   "cell_type": "code",
   "execution_count": 20,
   "id": "2ef7b63a-d893-481e-a834-1a00ff3be411",
   "metadata": {},
   "outputs": [],
   "source": [
    "import pandas as pd\n",
    "from io import StringIO\n",
    "\n",
    "html_content = StringIO(data.text)\n",
    "matches = pd.read_html(html_content, match=\"Scores & Fixtures\")[0]"
   ]
  },
  {
   "cell_type": "code",
   "execution_count": 21,
   "id": "c5574430-f8ba-468b-8636-be07bfb96032",
   "metadata": {},
   "outputs": [],
   "source": [
    "soup = BeautifulSoup(data.text)\n",
    "links = soup.find_all('a')\n",
    "links = [l.get(\"href\") for l in links]\n",
    "links = [l for l in links if l and 'all_comps/shooting/' in l]\n",
    "data = requests.get(f\"https://fbref.com{links[0]}\")"
   ]
  },
  {
   "cell_type": "code",
   "execution_count": 26,
   "id": "75e3ca50-5d35-40e1-a761-fc3fc865b9a3",
   "metadata": {},
   "outputs": [],
   "source": [
    "\n",
    "import pandas as pd \n",
    "from io import StringIO\n",
    "\n",
    "html_content = StringIO(data.text)\n",
    "shooting = pd.read_html(html_content, match=\"Shooting\")[0]"
   ]
  },
  {
   "cell_type": "code",
   "execution_count": 27,
   "id": "754a9deb-f76b-427a-9f04-03899d33fc87",
   "metadata": {},
   "outputs": [],
   "source": [
    "shooting.columns = shooting.columns.droplevel()\n",
    "team_data = matches.merge(shooting[[\"Date\", \"Sh\", \"SoT\", \"Dist\", \"FK\", \"PK\", \"PKatt\"]], on=\"Date\")\n",
    "team_data.head()\n",
    "years = list(range(2025, 2019, -1))\n",
    "\n",
    "\n",
    "all_matches = []\n"
   ]
  },
  {
   "cell_type": "code",
   "execution_count": 32,
   "id": "4f507d24-de7d-4137-a4cf-6020f34672fa",
   "metadata": {},
   "outputs": [
    {
     "name": "stdout",
     "output_type": "stream",
     "text": [
      "Requirement already satisfied: html5lib in /Users/dimitrivahlas/Downloads/PLpred/.venv/lib/python3.9/site-packages (1.1)\n",
      "Requirement already satisfied: six>=1.9 in /Users/dimitrivahlas/Downloads/PLpred/.venv/lib/python3.9/site-packages (from html5lib) (1.17.0)\n",
      "Requirement already satisfied: webencodings in /Users/dimitrivahlas/Downloads/PLpred/.venv/lib/python3.9/site-packages (from html5lib) (0.5.1)\n",
      "Note: you may need to restart the kernel to use updated packages.\n"
     ]
    }
   ],
   "source": [
    "%pip install html5lib\n"
   ]
  },
  {
   "cell_type": "code",
   "execution_count": 33,
   "id": "214b1214-96f1-439e-96dc-5489b2a98b22",
   "metadata": {},
   "outputs": [],
   "source": [
    "import time\n",
    "from io import StringIO\n",
    "#For loop that loops through each season starting from\n",
    "for year in years:\n",
    "    data = requests.get(standings_url)\n",
    "    soup = BeautifulSoup(data.text)\n",
    "    standings_table = soup.select('table.stats_table')[0]\n",
    "    time.sleep(5)\n",
    "\n",
    "    links = [l.get(\"href\") for l in standings_table.find_all('a')]\n",
    "    links = [l for l in links if '/squads/' in l]\n",
    "    team_urls = [f\"https://fbref.com{l}\" for l in links]\n",
    "\n",
    "    \n",
    "    previous_season = soup.select(\"a.prev\")[0].get(\"href\")\n",
    "    standings_url = f\"https://fbref.com{previous_season}\"\n",
    "    \n",
    "    for team_url in team_urls:\n",
    "        team_name = team_url.split(\"/\")[-1].replace(\"-Stats\", \"\").replace(\"-\", \" \")\n",
    "        data = requests.get(team_url)\n",
    "        time.sleep(3)\n",
    "        try:\n",
    "            matches = pd.read_html(StringIO(data.text), match=\"Scores & Fixtures\")[0]\n",
    "        except ValueError:\n",
    "            continue\n",
    "        soup = BeautifulSoup(data.text)\n",
    "        links = [l.get(\"href\") for l in soup.find_all('a')]\n",
    "        links = [l for l in links if l and 'all_comps/shooting/' in l]\n",
    "        data = requests.get(f\"https://fbref.com{links[0]}\")\n",
    "        try:\n",
    "            shooting = pd.read_html(StringIO(data.text), match=\"Shooting\")[0]\n",
    "        except ValueError:\n",
    "            continue\n",
    "        shooting.columns = shooting.columns.droplevel()\n",
    "        try:\n",
    "            team_data = matches.merge(shooting[[\"Date\", \"Sh\", \"SoT\", \"Dist\", \"FK\", \"PK\", \"PKatt\"]], on=\"Date\")\n",
    "        except ValueError:\n",
    "            continue\n",
    "        team_data = team_data[team_data[\"Comp\"] == \"Premier League\"]\n",
    "        \n",
    "        team_data[\"Season\"] = year\n",
    "        team_data[\"Team\"] = team_name\n",
    "        all_matches.append(team_data)\n",
    "        time.sleep(7)\n",
    "        \n",
    "       \n",
    "\n",
    "    \n",
    "\n"
   ]
  },
  {
   "cell_type": "code",
   "execution_count": null,
   "id": "8988c66e-a700-4b1c-aa11-4a38ea8890d8",
   "metadata": {},
   "outputs": [],
   "source": [
    "match_df = pd.concat(all_matches)\n",
    "match_df.columns = [c.lower() for c in match_df.columns]\n",
    "match_df.to_csv(\"matches.csv\")"
   ]
  }
 ],
 "metadata": {
  "kernelspec": {
   "display_name": "Python 3 (ipykernel)",
   "language": "python",
   "name": "python3"
  },
  "language_info": {
   "codemirror_mode": {
    "name": "ipython",
    "version": 3
   },
   "file_extension": ".py",
   "mimetype": "text/x-python",
   "name": "python",
   "nbconvert_exporter": "python",
   "pygments_lexer": "ipython3",
   "version": "3.9.6"
  }
 },
 "nbformat": 4,
 "nbformat_minor": 5
}
